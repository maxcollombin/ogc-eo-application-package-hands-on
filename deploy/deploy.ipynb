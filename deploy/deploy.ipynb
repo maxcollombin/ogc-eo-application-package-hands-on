{
 "cells": [
  {
   "cell_type": "code",
   "execution_count": 1,
   "metadata": {},
   "outputs": [],
   "source": [
    "import requests"
   ]
  },
  {
   "cell_type": "code",
   "execution_count": 72,
   "metadata": {},
   "outputs": [],
   "source": [
    "endpoint = \"http://process.psnc.terradue.com/terradue/wps3/processes\""
   ]
  },
  {
   "cell_type": "code",
   "execution_count": 103,
   "metadata": {},
   "outputs": [],
   "source": [
    "app_package_url = \"https://github.com/Terradue/ogc-eo-application-package-hands-on/releases/download/1.1.5/app-water-bodies.1.1.5.cwl\""
   ]
  },
  {
   "cell_type": "code",
   "execution_count": 104,
   "metadata": {},
   "outputs": [
    {
     "data": {
      "text/plain": [
       "200"
      ]
     },
     "execution_count": 104,
     "metadata": {},
     "output_type": "execute_result"
    }
   ],
   "source": [
    "r = requests.get(app_package_url)\n",
    "r.status_code"
   ]
  },
  {
   "cell_type": "code",
   "execution_count": 105,
   "metadata": {},
   "outputs": [],
   "source": [
    "\n",
    "deploy_request = {\n",
    "                \"inputs\": [\n",
    "                    {\n",
    "                    \"id\": \"applicationPackage\",\n",
    "                    \"input\": {\n",
    "                        \"format\": {\n",
    "                        \"mimeType\": \"application/cwl\"\n",
    "                        },\n",
    "                        \"value\": {\n",
    "                        \"href\": app_package_url\n",
    "                        }\n",
    "                    }\n",
    "                    }\n",
    "                ],\n",
    "                \"outputs\": [\n",
    "                    {\n",
    "                    \"format\": {\n",
    "                        \"mimeType\": \"string\",\n",
    "                        \"schema\": \"string\",\n",
    "                        \"encoding\": \"string\"\n",
    "                    },\n",
    "                    \"id\": \"deployResult\",\n",
    "                    \"transmissionMode\": \"value\"\n",
    "                    }\n",
    "                ],\n",
    "                \"mode\": \"auto\",\n",
    "                \"response\": \"raw\"\n",
    "                }"
   ]
  },
  {
   "cell_type": "code",
   "execution_count": 115,
   "metadata": {},
   "outputs": [],
   "source": [
    "r = requests.post(endpoint, json=deploy_request, headers = { \"Accept\": \"application/json\", \"Content-Type\": \"application/json\" })"
   ]
  },
  {
   "cell_type": "code",
   "execution_count": 116,
   "metadata": {},
   "outputs": [
    {
     "data": {
      "text/plain": [
       "201"
      ]
     },
     "execution_count": 116,
     "metadata": {},
     "output_type": "execute_result"
    }
   ],
   "source": [
    "r.status_code"
   ]
  },
  {
   "cell_type": "code",
   "execution_count": 117,
   "metadata": {},
   "outputs": [
    {
     "data": {
      "text/plain": [
       "200"
      ]
     },
     "execution_count": 117,
     "metadata": {},
     "output_type": "execute_result"
    }
   ],
   "source": [
    "r = requests.get(f\"{endpoint}/water_bodies-1_1_5\", headers = { \"Content-Type\": \"application/json\", \"Accept\": \"application/json\" })\n",
    "\n",
    "r.status_code\n"
   ]
  },
  {
   "cell_type": "code",
   "execution_count": 118,
   "metadata": {},
   "outputs": [
    {
     "data": {
      "text/plain": [
       "{'process': {'id': 'water_bodies-1_1_5',\n",
       "  'title': 'Water bodies detection based on NDWI and otsu threshold',\n",
       "  'abstract': 'Water bodies detection based on NDWI and otsu threshold',\n",
       "  'version': '1.1.5',\n",
       "  'jobControlOptions': ['sync-execute', 'async-execute', 'dismiss'],\n",
       "  'outputTransmission': ['value', 'reference'],\n",
       "  'links': [{'rel': 'canonical',\n",
       "    'type': 'application/json',\n",
       "    'title': 'Execute End Point',\n",
       "    'href': '/watchjob/processes/water_bodies-1_1_5/jobs/'}],\n",
       "  'inputs': [{'id': 'aoi',\n",
       "    'title': 'area of interest',\n",
       "    'abstract': 'area of interest as a bounding box',\n",
       "    'minOccurs': '1',\n",
       "    'maxOccurs': '1',\n",
       "    'input': {'literalDataDomains': [{'dataType': {'name': 'string'},\n",
       "       'valueDefinition': {'anyValue': True}}]}},\n",
       "   {'id': 'epsg',\n",
       "    'title': 'EPSG code',\n",
       "    'abstract': 'EPSG code',\n",
       "    'minOccurs': '1',\n",
       "    'maxOccurs': '1',\n",
       "    'input': {'literalDataDomains': [{'dataType': {'name': 'string'},\n",
       "       'defaultValue': 'EPSG:4326',\n",
       "       'valueDefinition': {'anyValue': True}}]}},\n",
       "   {'id': 'stac_items',\n",
       "    'title': 'Sentinel-2 STAC items',\n",
       "    'abstract': 'list of Sentinel-2 COG STAC items',\n",
       "    'minOccurs': '1',\n",
       "    'maxOccurs': '999',\n",
       "    'input': {'literalDataDomains': [{'dataType': {'name': 'string'},\n",
       "       'valueDefinition': {'anyValue': True}}]}}],\n",
       "  'outputs': [{'id': 'wf_outputs',\n",
       "    'title': 'wf_outputs',\n",
       "    'output': {'formats': [{'default': True,\n",
       "       'mimeType': 'application/json'}]}}]}}"
      ]
     },
     "execution_count": 118,
     "metadata": {},
     "output_type": "execute_result"
    }
   ],
   "source": [
    "r.json()"
   ]
  },
  {
   "cell_type": "code",
   "execution_count": 119,
   "metadata": {},
   "outputs": [],
   "source": [
    "stac_items = [\"https://earth-search.aws.element84.com/v0/collections/sentinel-s2-l2a-cogs/items/S2B_10TFK_20210713_0_L2A\", \n",
    "              \"https://earth-search.aws.element84.com/v0/collections/sentinel-s2-l2a-cogs/items/S2A_10TFK_20220524_0_L2A\"]\n",
    "\n",
    "aoi = \"-121.399,39.834,-120.74,40.472\"\n",
    "epsg= \"EPSG:4326\""
   ]
  },
  {
   "cell_type": "code",
   "execution_count": 120,
   "metadata": {},
   "outputs": [],
   "source": [
    "execution_request = {\n",
    "    \"inputs\": [\n",
    "        {\n",
    "            \"id\": \"stac_items\",\n",
    "            \"input\": {\n",
    "                \"dataType\": {\n",
    "                    \"name\": \"string\"\n",
    "                },\n",
    "                \"value\":  stac_items[0]\n",
    "            }\n",
    "        },\n",
    "        {\n",
    "            \"id\": \"epsg\",\n",
    "            \"input\": {\n",
    "                \"dataType\": {\n",
    "                    \"name\": \"string\"\n",
    "                },\n",
    "                \"value\": epsg\n",
    "            }\n",
    "        },\n",
    "        {\n",
    "            \"id\": \"aoi\",\n",
    "            \"input\": {\n",
    "                \"dataType\": {\n",
    "                    \"name\": \"string\"\n",
    "                },\n",
    "                \"value\": aoi\n",
    "            }\n",
    "        }\n",
    "    ],\n",
    "    \"outputs\": [\n",
    "        {\n",
    "            \"format\": {\n",
    "                \"mimeType\": \"string\",\n",
    "                \"schema\": \"string\",\n",
    "                \"encoding\": \"string\"\n",
    "            },\n",
    "            \"id\": \"wf_outputs\",\n",
    "            \"transmissionMode\": \"value\"\n",
    "        }\n",
    "    ],\n",
    "    \"mode\": \"auto\",\n",
    "    \"response\": \"raw\"\n",
    "}"
   ]
  },
  {
   "cell_type": "code",
   "execution_count": 121,
   "metadata": {},
   "outputs": [
    {
     "data": {
      "text/plain": [
       "201"
      ]
     },
     "execution_count": 121,
     "metadata": {},
     "output_type": "execute_result"
    }
   ],
   "source": [
    "r_submission = requests.post(f\"{endpoint}/water_bodies-1_1_5/jobs\", \n",
    "                  json=execution_request,headers = { \"Content-Type\": \"application/json\", \"Accept\": \"application/json\" })\n",
    "r_submission.status_code"
   ]
  },
  {
   "cell_type": "code",
   "execution_count": 122,
   "metadata": {},
   "outputs": [
    {
     "data": {
      "text/plain": [
       "200"
      ]
     },
     "execution_count": 122,
     "metadata": {},
     "output_type": "execute_result"
    }
   ],
   "source": [
    "r_monitor = requests.get(\"{}{}\".format(endpoint.replace(\"/terradue/wps3/processes\", \"\"),\n",
    "                         r_submission.headers[\"Location\"]), \n",
    "                         headers={ \"Content-Type\": \"application/json\", \"Accept\": \"application/json\"})\n",
    "\n",
    "r_monitor.status_code"
   ]
  },
  {
   "cell_type": "code",
   "execution_count": 123,
   "metadata": {},
   "outputs": [
    {
     "data": {
      "text/plain": [
       "{'jobID': 'c0ec6c3e-ed71-11ec-9fb6-ce14506f56ef',\n",
       " 'started': '2022-06-16T12:42:16.544985Z',\n",
       " 'status': 'running',\n",
       " 'message': 'running',\n",
       " 'progress': '0',\n",
       " 'links': [{'href': 'http://process.psnc.terradue.com/terradue/watchjob/processes/water_bodies-1_1_5/jobs/c0ec6c3e-ed71-11ec-9fb6-ce14506f56ef',\n",
       "   'rel': 'self',\n",
       "   'type': 'application/json',\n",
       "   'title': 'get Status'}]}"
      ]
     },
     "execution_count": 123,
     "metadata": {},
     "output_type": "execute_result"
    }
   ],
   "source": [
    "r_monitor.json()"
   ]
  },
  {
   "cell_type": "code",
   "execution_count": null,
   "metadata": {},
   "outputs": [],
   "source": []
  }
 ],
 "metadata": {
  "kernelspec": {
   "display_name": "Python 3.9.13 64-bit",
   "language": "python",
   "name": "python3"
  },
  "language_info": {
   "codemirror_mode": {
    "name": "ipython",
    "version": 3
   },
   "file_extension": ".py",
   "mimetype": "text/x-python",
   "name": "python",
   "nbconvert_exporter": "python",
   "pygments_lexer": "ipython3",
   "version": "3.9.13"
  },
  "orig_nbformat": 4,
  "vscode": {
   "interpreter": {
    "hash": "97659c7e81cfafb7d4d52e24a322bc8433466db59f5d74015205ff285a03aec9"
   }
  }
 },
 "nbformat": 4,
 "nbformat_minor": 2
}
